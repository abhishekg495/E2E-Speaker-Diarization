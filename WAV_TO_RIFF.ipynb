{
 "cells": [
  {
   "cell_type": "code",
   "execution_count": 20,
   "id": "25d83cc9-5c97-4956-ba03-0e1a17d35379",
   "metadata": {},
   "outputs": [],
   "source": [
    "import os\n",
    "import shutil\n",
    "import wave\n",
    "import struct\n",
    "import librosa\n",
    "import soundfile as sf"
   ]
  },
  {
   "cell_type": "code",
   "execution_count": 11,
   "id": "6f16577b-7d79-48f4-923d-8c3650683e05",
   "metadata": {},
   "outputs": [],
   "source": [
    "def fix_wav_files(root_folder, target_folder):\n",
    "    # Ensure the target folder exists\n",
    "    if not os.path.exists(target_folder):\n",
    "        os.makedirs(target_folder)\n",
    "\n",
    "    # Iterate through all files and directories in the root folder\n",
    "    for root, _, files in os.walk(root_folder):\n",
    "        for filename in files:\n",
    "            if filename.endswith('.WAV'):\n",
    "                source_path = os.path.join(root, filename)\n",
    "                target_path = os.path.join(target_folder, filename)\n",
    "\n",
    "                # Check and fix the WAV file if needed\n",
    "                fix_wav_file(source_path, target_path)\n"
   ]
  },
  {
   "cell_type": "code",
   "execution_count": 22,
   "id": "3f2352da-4a14-4118-8865-b266c783d699",
   "metadata": {},
   "outputs": [],
   "source": [
    "def fix_wav_file(source_path, target_path):\n",
    "    x,_ = librosa.load(source_path, sr=16000)\n",
    "    sf.write(target_path, x, 16000)"
   ]
  },
  {
   "cell_type": "code",
   "execution_count": 24,
   "id": "c6679f0e-395a-4b33-aa32-4f4e3dfcf200",
   "metadata": {},
   "outputs": [],
   "source": [
    "# Replace 'root_folder' and 'target_folder' with your actual root and target folder paths\n",
    "root_folder = './TRAIN'\n",
    "target_folder = './TRAIN_RIFF'\n",
    "\n",
    "fix_wav_files(root_folder, target_folder)"
   ]
  },
  {
   "cell_type": "code",
   "execution_count": null,
   "id": "9fd43c92-f0b9-4fef-ae45-1709b9a25304",
   "metadata": {},
   "outputs": [],
   "source": []
  }
 ],
 "metadata": {
  "kernelspec": {
   "display_name": "Python 3 (ipykernel)",
   "language": "python",
   "name": "python3"
  },
  "language_info": {
   "codemirror_mode": {
    "name": "ipython",
    "version": 3
   },
   "file_extension": ".py",
   "mimetype": "text/x-python",
   "name": "python",
   "nbconvert_exporter": "python",
   "pygments_lexer": "ipython3",
   "version": "3.11.7"
  }
 },
 "nbformat": 4,
 "nbformat_minor": 5
}
